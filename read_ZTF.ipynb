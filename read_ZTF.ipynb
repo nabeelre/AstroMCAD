{
 "cells": [
  {
   "cell_type": "code",
   "execution_count": null,
   "id": "265c836d",
   "metadata": {},
   "outputs": [],
   "source": [
    "import numpy as np\n",
    "import matplotlib.pyplot as plt\n",
    "import pandas as pd\n"
   ]
  },
  {
   "cell_type": "code",
   "execution_count": null,
   "id": "a0cab8d2",
   "metadata": {},
   "outputs": [],
   "source": [
    "from IPython.display import display, HTML\n",
    "display(HTML(\"<style>.container { width:90% !important; }</style>\"))\n",
    "%config InlineBackend.figure_format = 'retina'\n"
   ]
  },
  {
   "cell_type": "code",
   "execution_count": null,
   "id": "803abb79",
   "metadata": {},
   "outputs": [],
   "source": [
    "# Each row is an individual ZTF detection, each column is a field describing that detection\n",
    "alerts = pd.concat((\n",
    "    pd.read_csv(\"../BTS_data/train_cand_N100.csv\", index_col=None),\n",
    "    pd.read_csv(\"../BTS_data/val_cand_N100.csv\", index_col=None),\n",
    "    pd.read_csv(\"../BTS_data/test_cand_N100.csv\", index_col=None)\n",
    "))\n",
    "\n",
    "# Each row is a ZTF source\n",
    "# important columns here like redshift, type, etc.\n",
    "sources = pd.read_csv(\"../BTS_data/explorer.csv\", index_col=None)"
   ]
  },
  {
   "cell_type": "code",
   "execution_count": null,
   "id": "4eb8ef67",
   "metadata": {},
   "outputs": [],
   "source": [
    "# we want some features that are not already present in the alerts\n",
    "alerts[['redshift', 'type', 'A_V']] = -1"
   ]
  },
  {
   "cell_type": "code",
   "execution_count": null,
   "id": "2fd9be4c",
   "metadata": {},
   "outputs": [],
   "source": [
    "alerts"
   ]
  },
  {
   "cell_type": "code",
   "execution_count": null,
   "id": "2fe68965",
   "metadata": {},
   "outputs": [],
   "source": [
    "sources"
   ]
  },
  {
   "cell_type": "code",
   "execution_count": null,
   "id": "b78b4ed1",
   "metadata": {},
   "outputs": [],
   "source": [
    "source = sources[sources[\"ZTFID\"] == \"ZTF22abgteub\"]"
   ]
  },
  {
   "cell_type": "code",
   "execution_count": null,
   "id": "c35dc2ad",
   "metadata": {},
   "outputs": [],
   "source": [
    "source['ZTFID']"
   ]
  },
  {
   "cell_type": "code",
   "execution_count": null,
   "id": "3298c8fa",
   "metadata": {},
   "outputs": [],
   "source": [
    "for s_idx in sources.index:\n",
    "    obj_alerts = alerts.loc[alerts['objectId'] == sources.loc[s_idx, \"ZTFID\"]]\n",
    "    \n",
    "    # If this source has any alerts here,\n",
    "    if len(obj_alerts) > 0:\n",
    "        # Transfer necessary columns\n",
    "        alerts.loc[alerts['objectId'] == sources.loc[s_idx, \"ZTFID\"], [\"redshift\", \"type\", \"A_V\"]] = sources.loc[s_idx, [\"redshift\", \"type\", \"A_V\"]]"
   ]
  },
  {
   "cell_type": "code",
   "execution_count": null,
   "id": "c3e08cc4",
   "metadata": {},
   "outputs": [],
   "source": [
    "alerts.to_csv(\"../BTS_data/ZTF_alerts.csv\", index=None)"
   ]
  },
  {
   "cell_type": "code",
   "execution_count": null,
   "id": "1068678c",
   "metadata": {},
   "outputs": [],
   "source": []
  }
 ],
 "metadata": {
  "kernelspec": {
   "display_name": "Python 3 (ipykernel)",
   "language": "python",
   "name": "python3"
  },
  "language_info": {
   "codemirror_mode": {
    "name": "ipython",
    "version": 3
   },
   "file_extension": ".py",
   "mimetype": "text/x-python",
   "name": "python",
   "nbconvert_exporter": "python",
   "pygments_lexer": "ipython3",
   "version": "3.9.18"
  }
 },
 "nbformat": 4,
 "nbformat_minor": 5
}
